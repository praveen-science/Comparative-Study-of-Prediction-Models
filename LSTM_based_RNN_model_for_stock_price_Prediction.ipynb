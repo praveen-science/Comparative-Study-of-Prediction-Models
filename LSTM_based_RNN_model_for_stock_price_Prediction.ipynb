{
  "nbformat": 4,
  "nbformat_minor": 0,
  "metadata": {
    "kernelspec": {
      "display_name": "Python 3",
      "language": "python",
      "name": "python3"
    },
    "language_info": {
      "codemirror_mode": {
        "name": "ipython",
        "version": 3
      },
      "file_extension": ".py",
      "mimetype": "text/x-python",
      "name": "python",
      "nbconvert_exporter": "python",
      "pygments_lexer": "ipython3",
      "version": "3.8.3"
    },
    "colab": {
      "provenance": [],
      "include_colab_link": true
    }
  },
  "cells": [
    {
      "cell_type": "markdown",
      "metadata": {
        "id": "view-in-github",
        "colab_type": "text"
      },
      "source": [
        "<a href=\"https://colab.research.google.com/github/praveen-science/Comparative-Study-of-Prediction-Models/blob/main/LSTM_based_RNN_model_for_stock_price_Prediction.ipynb\" target=\"_parent\"><img src=\"https://colab.research.google.com/assets/colab-badge.svg\" alt=\"Open In Colab\"/></a>"
      ]
    },
    {
      "cell_type": "markdown",
      "metadata": {
        "id": "jSyGJGVZqOIy"
      },
      "source": [
        "# Google Stock Price Prediction Using RNN - LSTM"
      ]
    },
    {
      "cell_type": "code",
      "metadata": {
        "id": "tR9Qa2NqqOI0"
      },
      "source": [],
      "execution_count": null,
      "outputs": []
    },
    {
      "cell_type": "code",
      "metadata": {
        "id": "dA9tmpxoqOI1"
      },
      "source": [
        "#### Dataset Link : https://finance.yahoo.com/quote/GOOG/history"
      ],
      "execution_count": null,
      "outputs": []
    },
    {
      "cell_type": "markdown",
      "metadata": {
        "id": "54-8r98MqOI1"
      },
      "source": [
        "Sample questions :\n",
        "1.  What is a Recurrent Neural Network(RNN)?\n",
        "2.  Normalize data to 0-1 range.\n",
        "3.  What is a vanishing gradient when using RNNs?\n",
        "4.  What is exploding gradient descent in Deep Learning?\n",
        "5.  What is the difference between RNN and LSTM?\n",
        "6.  Data structure creation-create a sliding window to cover 60-time stamps\n",
        "7.  What Is Dropout and Batch Normalization?\n",
        "8.  What Are the Applications of a Recurrent Neural Network (RNN)?\n",
        "9.  Buil a  LSTM architecture  \n",
        "10. Compile and Train the Model\n",
        "11. Make prediction and visulaise the result.\n",
        "12. What is LSTM? Explain Architecture Of LSTM in detail.\n",
        "\n",
        "```\n",
        "# This is formatted as code\n",
        "```\n",
        "\n"
      ]
    },
    {
      "cell_type": "markdown",
      "metadata": {
        "id": "SSQUlChzqOI2"
      },
      "source": [
        "\n",
        "____\n",
        "\n",
        "## 1. Data processing\n",
        "\n",
        "### 1.1 Import data"
      ]
    },
    {
      "cell_type": "code",
      "metadata": {
        "id": "S3DEw5wBqOI2"
      },
      "source": [
        "# importing required libraries\n",
        "import numpy as np\n",
        "import pandas as pd\n",
        "from matplotlib import pyplot as plt\n"
      ],
      "execution_count": null,
      "outputs": []
    },
    {
      "cell_type": "code",
      "metadata": {
        "id": "uBEp3yhIqOI3"
      },
      "source": [
        "data=pd.read_csv('GOOG.csv',date_parser=True)"
      ],
      "execution_count": null,
      "outputs": []
    },
    {
      "cell_type": "code",
      "metadata": {
        "colab": {
          "base_uri": "https://localhost:8080/"
        },
        "id": "OMNCjhnGqOI3",
        "outputId": "40769bf0-1bfb-41cc-b588-c7f584e42783"
      },
      "source": [
        "data.info()"
      ],
      "execution_count": null,
      "outputs": [
        {
          "output_type": "stream",
          "name": "stdout",
          "text": [
            "<class 'pandas.core.frame.DataFrame'>\n",
            "RangeIndex: 3105 entries, 0 to 3104\n",
            "Data columns (total 7 columns):\n",
            " #   Column     Non-Null Count  Dtype  \n",
            "---  ------     --------------  -----  \n",
            " 0   Date       3105 non-null   object \n",
            " 1   Open       3105 non-null   float64\n",
            " 2   High       3105 non-null   float64\n",
            " 3   Low        3105 non-null   float64\n",
            " 4   Close      3105 non-null   float64\n",
            " 5   Adj Close  3105 non-null   float64\n",
            " 6   Volume     3105 non-null   int64  \n",
            "dtypes: float64(5), int64(1), object(1)\n",
            "memory usage: 169.9+ KB\n"
          ]
        }
      ]
    },
    {
      "cell_type": "code",
      "metadata": {
        "colab": {
          "base_uri": "https://localhost:8080/",
          "height": 206
        },
        "id": "PJxX27JDqOI4",
        "outputId": "59c93878-05e4-4393-ab48-d6f1e1e56634"
      },
      "source": [
        "data.head()"
      ],
      "execution_count": null,
      "outputs": [
        {
          "output_type": "execute_result",
          "data": {
            "text/html": [
              "<div>\n",
              "<style scoped>\n",
              "    .dataframe tbody tr th:only-of-type {\n",
              "        vertical-align: middle;\n",
              "    }\n",
              "\n",
              "    .dataframe tbody tr th {\n",
              "        vertical-align: top;\n",
              "    }\n",
              "\n",
              "    .dataframe thead th {\n",
              "        text-align: right;\n",
              "    }\n",
              "</style>\n",
              "<table border=\"1\" class=\"dataframe\">\n",
              "  <thead>\n",
              "    <tr style=\"text-align: right;\">\n",
              "      <th></th>\n",
              "      <th>Date</th>\n",
              "      <th>Open</th>\n",
              "      <th>High</th>\n",
              "      <th>Low</th>\n",
              "      <th>Close</th>\n",
              "      <th>Adj Close</th>\n",
              "      <th>Volume</th>\n",
              "    </tr>\n",
              "  </thead>\n",
              "  <tbody>\n",
              "    <tr>\n",
              "      <th>0</th>\n",
              "      <td>2006-01-03</td>\n",
              "      <td>209.894836</td>\n",
              "      <td>216.427353</td>\n",
              "      <td>207.758728</td>\n",
              "      <td>216.208771</td>\n",
              "      <td>216.208771</td>\n",
              "      <td>26413000</td>\n",
              "    </tr>\n",
              "    <tr>\n",
              "      <th>1</th>\n",
              "      <td>2006-01-04</td>\n",
              "      <td>220.515762</td>\n",
              "      <td>223.029404</td>\n",
              "      <td>218.454163</td>\n",
              "      <td>221.181427</td>\n",
              "      <td>221.181427</td>\n",
              "      <td>30771600</td>\n",
              "    </tr>\n",
              "    <tr>\n",
              "      <th>2</th>\n",
              "      <td>2006-01-05</td>\n",
              "      <td>221.558975</td>\n",
              "      <td>224.316040</td>\n",
              "      <td>219.323517</td>\n",
              "      <td>224.162048</td>\n",
              "      <td>224.162048</td>\n",
              "      <td>21757200</td>\n",
              "    </tr>\n",
              "    <tr>\n",
              "      <th>3</th>\n",
              "      <td>2006-01-06</td>\n",
              "      <td>226.958847</td>\n",
              "      <td>233.729813</td>\n",
              "      <td>225.155579</td>\n",
              "      <td>231.325455</td>\n",
              "      <td>231.325455</td>\n",
              "      <td>35744800</td>\n",
              "    </tr>\n",
              "    <tr>\n",
              "      <th>4</th>\n",
              "      <td>2006-01-09</td>\n",
              "      <td>231.698029</td>\n",
              "      <td>235.170441</td>\n",
              "      <td>228.980698</td>\n",
              "      <td>231.941452</td>\n",
              "      <td>231.941452</td>\n",
              "      <td>25750100</td>\n",
              "    </tr>\n",
              "  </tbody>\n",
              "</table>\n",
              "</div>"
            ],
            "text/plain": [
              "         Date        Open        High  ...       Close   Adj Close    Volume\n",
              "0  2006-01-03  209.894836  216.427353  ...  216.208771  216.208771  26413000\n",
              "1  2006-01-04  220.515762  223.029404  ...  221.181427  221.181427  30771600\n",
              "2  2006-01-05  221.558975  224.316040  ...  224.162048  224.162048  21757200\n",
              "3  2006-01-06  226.958847  233.729813  ...  231.325455  231.325455  35744800\n",
              "4  2006-01-09  231.698029  235.170441  ...  231.941452  231.941452  25750100\n",
              "\n",
              "[5 rows x 7 columns]"
            ]
          },
          "metadata": {},
          "execution_count": 4
        }
      ]
    },
    {
      "cell_type": "code",
      "metadata": {
        "colab": {
          "base_uri": "https://localhost:8080/",
          "height": 204
        },
        "id": "nvzzAgszqOI4",
        "outputId": "77733015-3250-4827-8444-c68e3485c879"
      },
      "source": [
        "data.tail()"
      ],
      "execution_count": null,
      "outputs": [
        {
          "output_type": "execute_result",
          "data": {
            "text/html": [
              "<div>\n",
              "<style scoped>\n",
              "    .dataframe tbody tr th:only-of-type {\n",
              "        vertical-align: middle;\n",
              "    }\n",
              "\n",
              "    .dataframe tbody tr th {\n",
              "        vertical-align: top;\n",
              "    }\n",
              "\n",
              "    .dataframe thead th {\n",
              "        text-align: right;\n",
              "    }\n",
              "</style>\n",
              "<table border=\"1\" class=\"dataframe\">\n",
              "  <thead>\n",
              "    <tr style=\"text-align: right;\">\n",
              "      <th></th>\n",
              "      <th>Date</th>\n",
              "      <th>Open</th>\n",
              "      <th>High</th>\n",
              "      <th>Low</th>\n",
              "      <th>Close</th>\n",
              "      <th>Adj Close</th>\n",
              "      <th>Volume</th>\n",
              "    </tr>\n",
              "  </thead>\n",
              "  <tbody>\n",
              "    <tr>\n",
              "      <th>3989</th>\n",
              "      <td>24-06-2020</td>\n",
              "      <td>1461.510010</td>\n",
              "      <td>1475.420044</td>\n",
              "      <td>1429.750000</td>\n",
              "      <td>1431.969971</td>\n",
              "      <td>1431.969971</td>\n",
              "      <td>1756000</td>\n",
              "    </tr>\n",
              "    <tr>\n",
              "      <th>3990</th>\n",
              "      <td>25-06-2020</td>\n",
              "      <td>1429.900024</td>\n",
              "      <td>1442.900024</td>\n",
              "      <td>1420.000000</td>\n",
              "      <td>1441.329956</td>\n",
              "      <td>1441.329956</td>\n",
              "      <td>1230500</td>\n",
              "    </tr>\n",
              "    <tr>\n",
              "      <th>3991</th>\n",
              "      <td>26-06-2020</td>\n",
              "      <td>1431.390015</td>\n",
              "      <td>1433.449951</td>\n",
              "      <td>1351.989990</td>\n",
              "      <td>1359.900024</td>\n",
              "      <td>1359.900024</td>\n",
              "      <td>4267700</td>\n",
              "    </tr>\n",
              "    <tr>\n",
              "      <th>3992</th>\n",
              "      <td>29-06-2020</td>\n",
              "      <td>1358.180054</td>\n",
              "      <td>1395.599976</td>\n",
              "      <td>1347.010010</td>\n",
              "      <td>1394.969971</td>\n",
              "      <td>1394.969971</td>\n",
              "      <td>1810200</td>\n",
              "    </tr>\n",
              "    <tr>\n",
              "      <th>3993</th>\n",
              "      <td>30-06-2020</td>\n",
              "      <td>1390.439941</td>\n",
              "      <td>1418.650024</td>\n",
              "      <td>1383.959961</td>\n",
              "      <td>1413.609985</td>\n",
              "      <td>1413.609985</td>\n",
              "      <td>2041600</td>\n",
              "    </tr>\n",
              "  </tbody>\n",
              "</table>\n",
              "</div>"
            ],
            "text/plain": [
              "            Date         Open         High  ...        Close    Adj Close   Volume\n",
              "3989  24-06-2020  1461.510010  1475.420044  ...  1431.969971  1431.969971  1756000\n",
              "3990  25-06-2020  1429.900024  1442.900024  ...  1441.329956  1441.329956  1230500\n",
              "3991  26-06-2020  1431.390015  1433.449951  ...  1359.900024  1359.900024  4267700\n",
              "3992  29-06-2020  1358.180054  1395.599976  ...  1394.969971  1394.969971  1810200\n",
              "3993  30-06-2020  1390.439941  1418.650024  ...  1413.609985  1413.609985  2041600\n",
              "\n",
              "[5 rows x 7 columns]"
            ]
          },
          "metadata": {
            "tags": []
          },
          "execution_count": 5
        }
      ]
    },
    {
      "cell_type": "code",
      "metadata": {
        "colab": {
          "base_uri": "https://localhost:8080/",
          "height": 424
        },
        "id": "2tODvnm4qOI5",
        "outputId": "d7c83184-5763-4f28-8a74-2c77c9639ec1"
      },
      "source": [
        "data_training=data[data['Date']<'2019-01-01'].copy()\n",
        "data_training"
      ],
      "execution_count": null,
      "outputs": [
        {
          "output_type": "execute_result",
          "data": {
            "text/html": [
              "<div>\n",
              "<style scoped>\n",
              "    .dataframe tbody tr th:only-of-type {\n",
              "        vertical-align: middle;\n",
              "    }\n",
              "\n",
              "    .dataframe tbody tr th {\n",
              "        vertical-align: top;\n",
              "    }\n",
              "\n",
              "    .dataframe thead th {\n",
              "        text-align: right;\n",
              "    }\n",
              "</style>\n",
              "<table border=\"1\" class=\"dataframe\">\n",
              "  <thead>\n",
              "    <tr style=\"text-align: right;\">\n",
              "      <th></th>\n",
              "      <th>Date</th>\n",
              "      <th>Open</th>\n",
              "      <th>High</th>\n",
              "      <th>Low</th>\n",
              "      <th>Close</th>\n",
              "      <th>Adj Close</th>\n",
              "      <th>Volume</th>\n",
              "    </tr>\n",
              "  </thead>\n",
              "  <tbody>\n",
              "    <tr>\n",
              "      <th>0</th>\n",
              "      <td>2006-01-03</td>\n",
              "      <td>209.894836</td>\n",
              "      <td>216.427353</td>\n",
              "      <td>207.758728</td>\n",
              "      <td>216.208771</td>\n",
              "      <td>216.208771</td>\n",
              "      <td>26413000</td>\n",
              "    </tr>\n",
              "    <tr>\n",
              "      <th>1</th>\n",
              "      <td>2006-01-04</td>\n",
              "      <td>220.515762</td>\n",
              "      <td>223.029404</td>\n",
              "      <td>218.454163</td>\n",
              "      <td>221.181427</td>\n",
              "      <td>221.181427</td>\n",
              "      <td>30771600</td>\n",
              "    </tr>\n",
              "    <tr>\n",
              "      <th>2</th>\n",
              "      <td>2006-01-05</td>\n",
              "      <td>221.558975</td>\n",
              "      <td>224.316040</td>\n",
              "      <td>219.323517</td>\n",
              "      <td>224.162048</td>\n",
              "      <td>224.162048</td>\n",
              "      <td>21757200</td>\n",
              "    </tr>\n",
              "    <tr>\n",
              "      <th>3</th>\n",
              "      <td>2006-01-06</td>\n",
              "      <td>226.958847</td>\n",
              "      <td>233.729813</td>\n",
              "      <td>225.155579</td>\n",
              "      <td>231.325455</td>\n",
              "      <td>231.325455</td>\n",
              "      <td>35744800</td>\n",
              "    </tr>\n",
              "    <tr>\n",
              "      <th>4</th>\n",
              "      <td>2006-01-09</td>\n",
              "      <td>231.698029</td>\n",
              "      <td>235.170441</td>\n",
              "      <td>228.980698</td>\n",
              "      <td>231.941452</td>\n",
              "      <td>231.941452</td>\n",
              "      <td>25750100</td>\n",
              "    </tr>\n",
              "    <tr>\n",
              "      <th>...</th>\n",
              "      <td>...</td>\n",
              "      <td>...</td>\n",
              "      <td>...</td>\n",
              "      <td>...</td>\n",
              "      <td>...</td>\n",
              "      <td>...</td>\n",
              "      <td>...</td>\n",
              "    </tr>\n",
              "    <tr>\n",
              "      <th>3100</th>\n",
              "      <td>2018-04-27</td>\n",
              "      <td>1046.000000</td>\n",
              "      <td>1049.500000</td>\n",
              "      <td>1025.589966</td>\n",
              "      <td>1030.050049</td>\n",
              "      <td>1030.050049</td>\n",
              "      <td>1619800</td>\n",
              "    </tr>\n",
              "    <tr>\n",
              "      <th>3101</th>\n",
              "      <td>2018-04-30</td>\n",
              "      <td>1030.010010</td>\n",
              "      <td>1037.000000</td>\n",
              "      <td>1016.849976</td>\n",
              "      <td>1017.330017</td>\n",
              "      <td>1017.330017</td>\n",
              "      <td>1671300</td>\n",
              "    </tr>\n",
              "    <tr>\n",
              "      <th>3102</th>\n",
              "      <td>2018-05-01</td>\n",
              "      <td>1013.659973</td>\n",
              "      <td>1038.469971</td>\n",
              "      <td>1008.210022</td>\n",
              "      <td>1037.310059</td>\n",
              "      <td>1037.310059</td>\n",
              "      <td>1427900</td>\n",
              "    </tr>\n",
              "    <tr>\n",
              "      <th>3103</th>\n",
              "      <td>2018-05-02</td>\n",
              "      <td>1028.099976</td>\n",
              "      <td>1040.389038</td>\n",
              "      <td>1022.869995</td>\n",
              "      <td>1024.380005</td>\n",
              "      <td>1024.380005</td>\n",
              "      <td>1603100</td>\n",
              "    </tr>\n",
              "    <tr>\n",
              "      <th>3104</th>\n",
              "      <td>2018-05-03</td>\n",
              "      <td>1019.000000</td>\n",
              "      <td>1029.675049</td>\n",
              "      <td>1006.289978</td>\n",
              "      <td>1023.719971</td>\n",
              "      <td>1023.719971</td>\n",
              "      <td>1812000</td>\n",
              "    </tr>\n",
              "  </tbody>\n",
              "</table>\n",
              "<p>3105 rows × 7 columns</p>\n",
              "</div>"
            ],
            "text/plain": [
              "            Date         Open         High  ...        Close    Adj Close    Volume\n",
              "0     2006-01-03   209.894836   216.427353  ...   216.208771   216.208771  26413000\n",
              "1     2006-01-04   220.515762   223.029404  ...   221.181427   221.181427  30771600\n",
              "2     2006-01-05   221.558975   224.316040  ...   224.162048   224.162048  21757200\n",
              "3     2006-01-06   226.958847   233.729813  ...   231.325455   231.325455  35744800\n",
              "4     2006-01-09   231.698029   235.170441  ...   231.941452   231.941452  25750100\n",
              "...          ...          ...          ...  ...          ...          ...       ...\n",
              "3100  2018-04-27  1046.000000  1049.500000  ...  1030.050049  1030.050049   1619800\n",
              "3101  2018-04-30  1030.010010  1037.000000  ...  1017.330017  1017.330017   1671300\n",
              "3102  2018-05-01  1013.659973  1038.469971  ...  1037.310059  1037.310059   1427900\n",
              "3103  2018-05-02  1028.099976  1040.389038  ...  1024.380005  1024.380005   1603100\n",
              "3104  2018-05-03  1019.000000  1029.675049  ...  1023.719971  1023.719971   1812000\n",
              "\n",
              "[3105 rows x 7 columns]"
            ]
          },
          "metadata": {},
          "execution_count": 5
        }
      ]
    },
    {
      "cell_type": "code",
      "metadata": {
        "scrolled": true,
        "colab": {
          "base_uri": "https://localhost:8080/",
          "height": 49
        },
        "id": "S_Yx_zXmqOI5",
        "outputId": "881376e8-cf4f-46ea-bd3c-37a40730b5af"
      },
      "source": [
        "data_test=data[data['Date']>='2019-01-01'].copy()\n",
        "data_test"
      ],
      "execution_count": null,
      "outputs": [
        {
          "output_type": "execute_result",
          "data": {
            "text/html": [
              "<div>\n",
              "<style scoped>\n",
              "    .dataframe tbody tr th:only-of-type {\n",
              "        vertical-align: middle;\n",
              "    }\n",
              "\n",
              "    .dataframe tbody tr th {\n",
              "        vertical-align: top;\n",
              "    }\n",
              "\n",
              "    .dataframe thead th {\n",
              "        text-align: right;\n",
              "    }\n",
              "</style>\n",
              "<table border=\"1\" class=\"dataframe\">\n",
              "  <thead>\n",
              "    <tr style=\"text-align: right;\">\n",
              "      <th></th>\n",
              "      <th>Date</th>\n",
              "      <th>Open</th>\n",
              "      <th>High</th>\n",
              "      <th>Low</th>\n",
              "      <th>Close</th>\n",
              "      <th>Adj Close</th>\n",
              "      <th>Volume</th>\n",
              "    </tr>\n",
              "  </thead>\n",
              "  <tbody>\n",
              "  </tbody>\n",
              "</table>\n",
              "</div>"
            ],
            "text/plain": [
              "Empty DataFrame\n",
              "Columns: [Date, Open, High, Low, Close, Adj Close, Volume]\n",
              "Index: []"
            ]
          },
          "metadata": {},
          "execution_count": 6
        }
      ]
    },
    {
      "cell_type": "markdown",
      "metadata": {
        "id": "j_2alHZqqOI5"
      },
      "source": [
        "##1. What is a Recurrent Neural Network(RNN)?"
      ]
    },
    {
      "cell_type": "code",
      "metadata": {
        "colab": {
          "base_uri": "https://localhost:8080/",
          "height": 206
        },
        "id": "VZIF8zXBqOI6",
        "outputId": "7cacbf1d-ba8b-4320-a007-cd87b566847d"
      },
      "source": [
        "data_training=data_training.drop(['Date','Adj Close'],axis=1)\n",
        "data_training.head()"
      ],
      "execution_count": null,
      "outputs": [
        {
          "output_type": "execute_result",
          "data": {
            "text/html": [
              "<div>\n",
              "<style scoped>\n",
              "    .dataframe tbody tr th:only-of-type {\n",
              "        vertical-align: middle;\n",
              "    }\n",
              "\n",
              "    .dataframe tbody tr th {\n",
              "        vertical-align: top;\n",
              "    }\n",
              "\n",
              "    .dataframe thead th {\n",
              "        text-align: right;\n",
              "    }\n",
              "</style>\n",
              "<table border=\"1\" class=\"dataframe\">\n",
              "  <thead>\n",
              "    <tr style=\"text-align: right;\">\n",
              "      <th></th>\n",
              "      <th>Open</th>\n",
              "      <th>High</th>\n",
              "      <th>Low</th>\n",
              "      <th>Close</th>\n",
              "      <th>Volume</th>\n",
              "    </tr>\n",
              "  </thead>\n",
              "  <tbody>\n",
              "    <tr>\n",
              "      <th>0</th>\n",
              "      <td>209.894836</td>\n",
              "      <td>216.427353</td>\n",
              "      <td>207.758728</td>\n",
              "      <td>216.208771</td>\n",
              "      <td>26413000</td>\n",
              "    </tr>\n",
              "    <tr>\n",
              "      <th>1</th>\n",
              "      <td>220.515762</td>\n",
              "      <td>223.029404</td>\n",
              "      <td>218.454163</td>\n",
              "      <td>221.181427</td>\n",
              "      <td>30771600</td>\n",
              "    </tr>\n",
              "    <tr>\n",
              "      <th>2</th>\n",
              "      <td>221.558975</td>\n",
              "      <td>224.316040</td>\n",
              "      <td>219.323517</td>\n",
              "      <td>224.162048</td>\n",
              "      <td>21757200</td>\n",
              "    </tr>\n",
              "    <tr>\n",
              "      <th>3</th>\n",
              "      <td>226.958847</td>\n",
              "      <td>233.729813</td>\n",
              "      <td>225.155579</td>\n",
              "      <td>231.325455</td>\n",
              "      <td>35744800</td>\n",
              "    </tr>\n",
              "    <tr>\n",
              "      <th>4</th>\n",
              "      <td>231.698029</td>\n",
              "      <td>235.170441</td>\n",
              "      <td>228.980698</td>\n",
              "      <td>231.941452</td>\n",
              "      <td>25750100</td>\n",
              "    </tr>\n",
              "  </tbody>\n",
              "</table>\n",
              "</div>"
            ],
            "text/plain": [
              "         Open        High         Low       Close    Volume\n",
              "0  209.894836  216.427353  207.758728  216.208771  26413000\n",
              "1  220.515762  223.029404  218.454163  221.181427  30771600\n",
              "2  221.558975  224.316040  219.323517  224.162048  21757200\n",
              "3  226.958847  233.729813  225.155579  231.325455  35744800\n",
              "4  231.698029  235.170441  228.980698  231.941452  25750100"
            ]
          },
          "metadata": {},
          "execution_count": 7
        }
      ]
    },
    {
      "cell_type": "markdown",
      "metadata": {
        "id": "5nzY7KKoqOI6"
      },
      "source": [
        "##2. Normalize data to 0-1 range."
      ]
    },
    {
      "cell_type": "markdown",
      "metadata": {
        "id": "KrVDE12qqOI6"
      },
      "source": [
        "### 1.2 Feature scaling"
      ]
    },
    {
      "cell_type": "code",
      "metadata": {
        "id": "WGLOlFSNqOI6"
      },
      "source": [
        "from sklearn.preprocessing import MinMaxScaler\n",
        "\n",
        "scaler = MinMaxScaler()\n",
        "data_training = scaler.fit_transform(data_training)"
      ],
      "execution_count": null,
      "outputs": []
    },
    {
      "cell_type": "code",
      "metadata": {
        "colab": {
          "base_uri": "https://localhost:8080/"
        },
        "id": "qBhCfdAnqOI6",
        "outputId": "24064ed3-dd29-4a34-ea46-5d90814f179a"
      },
      "source": [
        "data_training"
      ],
      "execution_count": null,
      "outputs": [
        {
          "output_type": "execute_result",
          "data": {
            "text/plain": [
              "array([[0.07592535, 0.07844898, 0.08093166, 0.08427922, 0.31905554],\n",
              "       [0.08607025, 0.08471828, 0.09112625, 0.08902434, 0.37172095],\n",
              "       [0.0870667 , 0.08594007, 0.09195489, 0.09186857, 0.26279903],\n",
              "       ...,\n",
              "       [0.84366571, 0.85906038, 0.84389912, 0.86780889, 0.01715801],\n",
              "       [0.85745851, 0.86088272, 0.85787259, 0.85547048, 0.01927497],\n",
              "       [0.8487664 , 0.85070872, 0.84206899, 0.85484065, 0.02179913]])"
            ]
          },
          "metadata": {},
          "execution_count": 9
        }
      ]
    },
    {
      "cell_type": "markdown",
      "metadata": {
        "id": "uZG1s3drqOI7"
      },
      "source": [
        "##3. What is a vanishing gradient when using RNNs?"
      ]
    },
    {
      "cell_type": "markdown",
      "metadata": {
        "id": "e570XCPqqOI7"
      },
      "source": [
        "##4. What is exploding gradient descent in Deep Learning?"
      ]
    },
    {
      "cell_type": "markdown",
      "metadata": {
        "id": "mDOsrZTjqOI7"
      },
      "source": [
        "##5. What is the difference between RNN and LSTM?"
      ]
    },
    {
      "cell_type": "markdown",
      "metadata": {
        "id": "19G4ntGsqOI8"
      },
      "source": [
        "##6. Data structure creation-create a sliding window to cover 60-time stamps"
      ]
    },
    {
      "cell_type": "markdown",
      "metadata": {
        "id": "uxs1SA7jqOI8"
      },
      "source": [
        "### 1.3 Data structure creation\n",
        "\n",
        "Important step to create a sliding window! A special data structure is needed to cover 60-time stamps, based on which RNN will predict the 61st price. Here the number of past timestamps is set to 60 based on experimentation. Thus, X_train is a nested list, which contains lists of 60 time-stamp prices. y_train is a list of stock prices which is the next day stock price, corresponding to each list in X_train. Specifically,"
      ]
    },
    {
      "cell_type": "code",
      "metadata": {
        "colab": {
          "base_uri": "https://localhost:8080/"
        },
        "id": "t5voGnzAqOI8",
        "outputId": "b254da77-ada4-4fd5-ad3e-8ce6d9169035"
      },
      "source": [
        "X_train = []\n",
        "y_train = []\n",
        "\n",
        "data_training.shape[0]"
      ],
      "execution_count": null,
      "outputs": [
        {
          "output_type": "execute_result",
          "data": {
            "text/plain": [
              "3105"
            ]
          },
          "metadata": {},
          "execution_count": 10
        }
      ]
    },
    {
      "cell_type": "code",
      "metadata": {
        "id": "ejHGmKqhqOI8"
      },
      "source": [
        "for i in range(60, data_training.shape[0]):\n",
        "\n",
        "    X_train.append(data_training[i-60: i])\n",
        "    y_train.append(data_training[i, 0])\n"
      ],
      "execution_count": null,
      "outputs": []
    },
    {
      "cell_type": "code",
      "metadata": {
        "id": "uXtWtiECqOI8"
      },
      "source": [
        " X_train, y_train = np.array(X_train), np.array(y_train)"
      ],
      "execution_count": null,
      "outputs": []
    },
    {
      "cell_type": "code",
      "metadata": {
        "colab": {
          "base_uri": "https://localhost:8080/"
        },
        "id": "rOoaBkC_qOI9",
        "outputId": "a378cd60-35e0-42bd-be44-5653fee4cd0f"
      },
      "source": [
        "X_train.shape, y_train.shape"
      ],
      "execution_count": null,
      "outputs": [
        {
          "output_type": "execute_result",
          "data": {
            "text/plain": [
              "((3045, 60, 5), (3045,))"
            ]
          },
          "metadata": {},
          "execution_count": 13
        }
      ]
    },
    {
      "cell_type": "markdown",
      "metadata": {
        "id": "ZP4fsLnKqOI9"
      },
      "source": [
        "## 1.4 Data reshaping"
      ]
    },
    {
      "cell_type": "code",
      "metadata": {
        "id": "rLVaPTgHqOI9"
      },
      "source": [
        "#X_train = np.reshape(X_train, newshape = (X_train.shape[0], X_train.shape[1], 1))"
      ],
      "execution_count": null,
      "outputs": []
    },
    {
      "cell_type": "markdown",
      "metadata": {
        "id": "2i6xoX_hqOI9"
      },
      "source": [
        "##7. What Is Dropout and Batch Normalization?"
      ]
    },
    {
      "cell_type": "markdown",
      "metadata": {
        "id": "k_6CIs7rqOI9"
      },
      "source": [
        "##8 What Are the Applications of a Recurrent Neural Network (RNN)?\n",
        "\n",
        "---\n",
        "\n"
      ]
    },
    {
      "cell_type": "markdown",
      "metadata": {
        "id": "yFzFQgKcqOI9"
      },
      "source": [
        "##9.  Buil a  LSTM architecture  "
      ]
    },
    {
      "cell_type": "markdown",
      "metadata": {
        "id": "nYFW3OvmqOI-"
      },
      "source": [
        "## 2. Model building\n",
        "### RNN model (Deep-Learning)"
      ]
    },
    {
      "cell_type": "code",
      "metadata": {
        "id": "R4YBr02JqOI-"
      },
      "source": [
        "#import Tensorflow library\n",
        "\n",
        "from tensorflow.keras import Sequential\n",
        "\n",
        "from tensorflow.keras.layers import Dense,LSTM,Dropout\n"
      ],
      "execution_count": null,
      "outputs": []
    },
    {
      "cell_type": "code",
      "metadata": {
        "id": "QDACee4XqOI-"
      },
      "source": [
        "# initialize the model\n",
        "\n",
        "regressor = Sequential()\n",
        "\n",
        "#add the 1st LSTM layer with the Dropout layer having rate=0.2, units=50 , Activation= relu\n",
        "regressor.add(LSTM(units = 50,activation='relu',return_sequences = True, input_shape = (X_train.shape[1], 5)))\n",
        "regressor.add(Dropout(rate = 0.2))\n",
        "\n",
        "##add 2nd lstm layer with the Dropout layer having rate=0.3 , units=60 , Activation= relu\n",
        "regressor.add(LSTM(units = 60,activation='relu', return_sequences = True))\n",
        "regressor.add(Dropout(rate = 0.3))\n",
        "\n",
        "##add 3rd lstm layer with the Dropout layer having rate=0.4 , units=80 , Activation= relu\n",
        "regressor.add(LSTM(units = 80,activation='relu', return_sequences = True))\n",
        "regressor.add(Dropout(rate = 0.4))\n",
        "\n",
        "##add 4th lstm layer with the Dropout layer having rate=0.5 , units=120.\n",
        "regressor.add(LSTM(units = 120, return_sequences = False))\n",
        "regressor.add(Dropout(rate = 0.5))\n",
        "\n",
        "#output layer. The output dimension is 1 since we are predicting 1 price each time.\n",
        "regressor.add(Dense(units = 1))\n"
      ],
      "execution_count": null,
      "outputs": []
    },
    {
      "cell_type": "code",
      "metadata": {
        "colab": {
          "base_uri": "https://localhost:8080/"
        },
        "id": "gVs9clwgqOI-",
        "outputId": "2079afc5-4936-4ed9-c066-d00a2fd3d4ff"
      },
      "source": [
        "regressor.summary()"
      ],
      "execution_count": null,
      "outputs": [
        {
          "output_type": "stream",
          "name": "stdout",
          "text": [
            "Model: \"sequential\"\n",
            "_________________________________________________________________\n",
            " Layer (type)                Output Shape              Param #   \n",
            "=================================================================\n",
            " lstm (LSTM)                 (None, 60, 50)            11200     \n",
            "                                                                 \n",
            " dropout (Dropout)           (None, 60, 50)            0         \n",
            "                                                                 \n",
            " lstm_1 (LSTM)               (None, 60, 60)            26640     \n",
            "                                                                 \n",
            " dropout_1 (Dropout)         (None, 60, 60)            0         \n",
            "                                                                 \n",
            " lstm_2 (LSTM)               (None, 60, 80)            45120     \n",
            "                                                                 \n",
            " dropout_2 (Dropout)         (None, 60, 80)            0         \n",
            "                                                                 \n",
            " lstm_3 (LSTM)               (None, 120)               96480     \n",
            "                                                                 \n",
            " dropout_3 (Dropout)         (None, 120)               0         \n",
            "                                                                 \n",
            " dense (Dense)               (None, 1)                 121       \n",
            "                                                                 \n",
            "=================================================================\n",
            "Total params: 179,561\n",
            "Trainable params: 179,561\n",
            "Non-trainable params: 0\n",
            "_________________________________________________________________\n"
          ]
        }
      ]
    },
    {
      "cell_type": "markdown",
      "metadata": {
        "id": "Em5wjZF5qOI_"
      },
      "source": [
        "##10. Compile and Train the Model"
      ]
    },
    {
      "cell_type": "markdown",
      "metadata": {
        "id": "GTW_QaL5qOI_"
      },
      "source": [
        "## 3. Model compiling"
      ]
    },
    {
      "cell_type": "code",
      "metadata": {
        "id": "jfuh2fBTqOI_"
      },
      "source": [
        "regressor.compile(optimizer ='adam', loss = 'mean_squared_error')"
      ],
      "execution_count": null,
      "outputs": []
    },
    {
      "cell_type": "markdown",
      "metadata": {
        "id": "rLjgSRpvqOI_"
      },
      "source": [
        "## 4. Model fitting"
      ]
    },
    {
      "cell_type": "code",
      "metadata": {
        "colab": {
          "base_uri": "https://localhost:8080/"
        },
        "id": "4aIX51AqqOI_",
        "outputId": "302757d0-5fff-48ee-b0e6-f433cf5da379"
      },
      "source": [
        "regressor.fit(x = X_train, y = y_train, batch_size = 32, epochs = 20)"
      ],
      "execution_count": null,
      "outputs": [
        {
          "output_type": "stream",
          "name": "stdout",
          "text": [
            "Epoch 1/20\n",
            "96/96 [==============================] - 24s 182ms/step - loss: 0.0090\n",
            "Epoch 2/20\n",
            "96/96 [==============================] - 17s 182ms/step - loss: 0.0031\n",
            "Epoch 3/20\n",
            "96/96 [==============================] - 17s 176ms/step - loss: 0.0032\n",
            "Epoch 4/20\n",
            "96/96 [==============================] - 17s 180ms/step - loss: 0.0031\n",
            "Epoch 5/20\n",
            "96/96 [==============================] - 17s 180ms/step - loss: 0.0030\n",
            "Epoch 6/20\n",
            "96/96 [==============================] - 17s 178ms/step - loss: 0.0020\n",
            "Epoch 7/20\n",
            "96/96 [==============================] - 17s 175ms/step - loss: 0.0024\n",
            "Epoch 8/20\n",
            "96/96 [==============================] - 18s 183ms/step - loss: 0.0020\n",
            "Epoch 9/20\n",
            "96/96 [==============================] - 18s 190ms/step - loss: 0.0019\n",
            "Epoch 10/20\n",
            "96/96 [==============================] - 18s 188ms/step - loss: 0.0022\n",
            "Epoch 11/20\n",
            "96/96 [==============================] - 18s 190ms/step - loss: 0.0021\n",
            "Epoch 12/20\n",
            "96/96 [==============================] - 18s 188ms/step - loss: 0.0018\n",
            "Epoch 13/20\n",
            "96/96 [==============================] - 19s 194ms/step - loss: 0.0015\n",
            "Epoch 14/20\n",
            "96/96 [==============================] - 18s 184ms/step - loss: 0.0016\n",
            "Epoch 15/20\n",
            "96/96 [==============================] - 18s 187ms/step - loss: 0.0016\n",
            "Epoch 16/20\n",
            "96/96 [==============================] - 18s 188ms/step - loss: 0.0015\n",
            "Epoch 17/20\n",
            "96/96 [==============================] - 17s 180ms/step - loss: 0.0016\n",
            "Epoch 18/20\n",
            "96/96 [==============================] - 17s 175ms/step - loss: 0.0014\n",
            "Epoch 19/20\n",
            "96/96 [==============================] - 16s 172ms/step - loss: 0.0014\n",
            "Epoch 20/20\n",
            "96/96 [==============================] - 17s 176ms/step - loss: 0.0013\n"
          ]
        },
        {
          "output_type": "execute_result",
          "data": {
            "text/plain": [
              "<keras.callbacks.History at 0x7f84e9d9a190>"
            ]
          },
          "metadata": {},
          "execution_count": 18
        }
      ]
    },
    {
      "cell_type": "markdown",
      "metadata": {
        "id": "gRZEHKaDqOI_"
      },
      "source": [
        "## 5. Model prediction\n",
        "### 5.1 Import test data\n",
        "\n"
      ]
    },
    {
      "cell_type": "code",
      "metadata": {
        "id": "hhEgWF9oqOJA"
      },
      "source": [
        "data_test=data[data['Date']>='2019-01-01'].copy()\n",
        "data_training=data[data['Date']<'2019-01-01'].copy()"
      ],
      "execution_count": null,
      "outputs": []
    },
    {
      "cell_type": "code",
      "metadata": {
        "colab": {
          "base_uri": "https://localhost:8080/",
          "height": 49
        },
        "id": "O49eEOH1qOJA",
        "outputId": "c5a85253-1762-4772-a5a7-4a9fed388bbd"
      },
      "source": [
        "# Data processing\n",
        "\n",
        "data_test.head()"
      ],
      "execution_count": null,
      "outputs": [
        {
          "output_type": "execute_result",
          "data": {
            "text/html": [
              "<div>\n",
              "<style scoped>\n",
              "    .dataframe tbody tr th:only-of-type {\n",
              "        vertical-align: middle;\n",
              "    }\n",
              "\n",
              "    .dataframe tbody tr th {\n",
              "        vertical-align: top;\n",
              "    }\n",
              "\n",
              "    .dataframe thead th {\n",
              "        text-align: right;\n",
              "    }\n",
              "</style>\n",
              "<table border=\"1\" class=\"dataframe\">\n",
              "  <thead>\n",
              "    <tr style=\"text-align: right;\">\n",
              "      <th></th>\n",
              "      <th>Date</th>\n",
              "      <th>Open</th>\n",
              "      <th>High</th>\n",
              "      <th>Low</th>\n",
              "      <th>Close</th>\n",
              "      <th>Adj Close</th>\n",
              "      <th>Volume</th>\n",
              "    </tr>\n",
              "  </thead>\n",
              "  <tbody>\n",
              "  </tbody>\n",
              "</table>\n",
              "</div>"
            ],
            "text/plain": [
              "Empty DataFrame\n",
              "Columns: [Date, Open, High, Low, Close, Adj Close, Volume]\n",
              "Index: []"
            ]
          },
          "metadata": {},
          "execution_count": 20
        }
      ]
    },
    {
      "cell_type": "code",
      "metadata": {
        "id": "u62x0_KlqOJA"
      },
      "source": [
        "past_60_days=data_training.tail(60)"
      ],
      "execution_count": null,
      "outputs": []
    },
    {
      "cell_type": "markdown",
      "metadata": {
        "id": "vItw75kmqOJA"
      },
      "source": [
        "we need to concatenate the train and test datasets for prediction, because we use the previous 60 days’ stock prices to predict the next-day price. In another word, we need the 60 days’ price before the 1st date in the test dataset."
      ]
    },
    {
      "cell_type": "code",
      "metadata": {
        "id": "X0Fkl0z9qOJB"
      },
      "source": [
        "df=past_60_days.append(data_test,ignore_index=True)"
      ],
      "execution_count": null,
      "outputs": []
    },
    {
      "cell_type": "code",
      "metadata": {
        "colab": {
          "base_uri": "https://localhost:8080/",
          "height": 206
        },
        "id": "cs42GALOqOJB",
        "outputId": "adf504fd-8360-4c30-f87a-25b0b0bac67c"
      },
      "source": [
        "df.head()"
      ],
      "execution_count": null,
      "outputs": [
        {
          "output_type": "execute_result",
          "data": {
            "text/html": [
              "<div>\n",
              "<style scoped>\n",
              "    .dataframe tbody tr th:only-of-type {\n",
              "        vertical-align: middle;\n",
              "    }\n",
              "\n",
              "    .dataframe tbody tr th {\n",
              "        vertical-align: top;\n",
              "    }\n",
              "\n",
              "    .dataframe thead th {\n",
              "        text-align: right;\n",
              "    }\n",
              "</style>\n",
              "<table border=\"1\" class=\"dataframe\">\n",
              "  <thead>\n",
              "    <tr style=\"text-align: right;\">\n",
              "      <th></th>\n",
              "      <th>Date</th>\n",
              "      <th>Open</th>\n",
              "      <th>High</th>\n",
              "      <th>Low</th>\n",
              "      <th>Close</th>\n",
              "      <th>Adj Close</th>\n",
              "      <th>Volume</th>\n",
              "    </tr>\n",
              "  </thead>\n",
              "  <tbody>\n",
              "    <tr>\n",
              "      <th>0</th>\n",
              "      <td>2018-02-07</td>\n",
              "      <td>1081.540039</td>\n",
              "      <td>1081.780029</td>\n",
              "      <td>1048.260010</td>\n",
              "      <td>1048.579956</td>\n",
              "      <td>1048.579956</td>\n",
              "      <td>2369200</td>\n",
              "    </tr>\n",
              "    <tr>\n",
              "      <th>1</th>\n",
              "      <td>2018-02-08</td>\n",
              "      <td>1055.410034</td>\n",
              "      <td>1058.619995</td>\n",
              "      <td>1000.659973</td>\n",
              "      <td>1001.520020</td>\n",
              "      <td>1001.520020</td>\n",
              "      <td>2859100</td>\n",
              "    </tr>\n",
              "    <tr>\n",
              "      <th>2</th>\n",
              "      <td>2018-02-09</td>\n",
              "      <td>1017.250000</td>\n",
              "      <td>1043.969971</td>\n",
              "      <td>992.559998</td>\n",
              "      <td>1037.780029</td>\n",
              "      <td>1037.780029</td>\n",
              "      <td>3505900</td>\n",
              "    </tr>\n",
              "    <tr>\n",
              "      <th>3</th>\n",
              "      <td>2018-02-12</td>\n",
              "      <td>1048.000000</td>\n",
              "      <td>1061.500000</td>\n",
              "      <td>1040.927979</td>\n",
              "      <td>1051.939941</td>\n",
              "      <td>1051.939941</td>\n",
              "      <td>2057700</td>\n",
              "    </tr>\n",
              "    <tr>\n",
              "      <th>4</th>\n",
              "      <td>2018-02-13</td>\n",
              "      <td>1045.000000</td>\n",
              "      <td>1058.369995</td>\n",
              "      <td>1044.087036</td>\n",
              "      <td>1052.099976</td>\n",
              "      <td>1052.099976</td>\n",
              "      <td>1265100</td>\n",
              "    </tr>\n",
              "  </tbody>\n",
              "</table>\n",
              "</div>"
            ],
            "text/plain": [
              "         Date         Open         High  ...        Close    Adj Close   Volume\n",
              "0  2018-02-07  1081.540039  1081.780029  ...  1048.579956  1048.579956  2369200\n",
              "1  2018-02-08  1055.410034  1058.619995  ...  1001.520020  1001.520020  2859100\n",
              "2  2018-02-09  1017.250000  1043.969971  ...  1037.780029  1037.780029  3505900\n",
              "3  2018-02-12  1048.000000  1061.500000  ...  1051.939941  1051.939941  2057700\n",
              "4  2018-02-13  1045.000000  1058.369995  ...  1052.099976  1052.099976  1265100\n",
              "\n",
              "[5 rows x 7 columns]"
            ]
          },
          "metadata": {},
          "execution_count": 23
        }
      ]
    },
    {
      "cell_type": "code",
      "metadata": {
        "colab": {
          "base_uri": "https://localhost:8080/",
          "height": 206
        },
        "id": "_MHEfmw6qOJB",
        "outputId": "8e449291-de26-464a-c715-bf7fcfd0ffa9"
      },
      "source": [
        "df=df.drop(['Date','Adj Close'],axis=1)\n",
        "df.head()"
      ],
      "execution_count": null,
      "outputs": [
        {
          "output_type": "execute_result",
          "data": {
            "text/html": [
              "<div>\n",
              "<style scoped>\n",
              "    .dataframe tbody tr th:only-of-type {\n",
              "        vertical-align: middle;\n",
              "    }\n",
              "\n",
              "    .dataframe tbody tr th {\n",
              "        vertical-align: top;\n",
              "    }\n",
              "\n",
              "    .dataframe thead th {\n",
              "        text-align: right;\n",
              "    }\n",
              "</style>\n",
              "<table border=\"1\" class=\"dataframe\">\n",
              "  <thead>\n",
              "    <tr style=\"text-align: right;\">\n",
              "      <th></th>\n",
              "      <th>Open</th>\n",
              "      <th>High</th>\n",
              "      <th>Low</th>\n",
              "      <th>Close</th>\n",
              "      <th>Volume</th>\n",
              "    </tr>\n",
              "  </thead>\n",
              "  <tbody>\n",
              "    <tr>\n",
              "      <th>0</th>\n",
              "      <td>1081.540039</td>\n",
              "      <td>1081.780029</td>\n",
              "      <td>1048.260010</td>\n",
              "      <td>1048.579956</td>\n",
              "      <td>2369200</td>\n",
              "    </tr>\n",
              "    <tr>\n",
              "      <th>1</th>\n",
              "      <td>1055.410034</td>\n",
              "      <td>1058.619995</td>\n",
              "      <td>1000.659973</td>\n",
              "      <td>1001.520020</td>\n",
              "      <td>2859100</td>\n",
              "    </tr>\n",
              "    <tr>\n",
              "      <th>2</th>\n",
              "      <td>1017.250000</td>\n",
              "      <td>1043.969971</td>\n",
              "      <td>992.559998</td>\n",
              "      <td>1037.780029</td>\n",
              "      <td>3505900</td>\n",
              "    </tr>\n",
              "    <tr>\n",
              "      <th>3</th>\n",
              "      <td>1048.000000</td>\n",
              "      <td>1061.500000</td>\n",
              "      <td>1040.927979</td>\n",
              "      <td>1051.939941</td>\n",
              "      <td>2057700</td>\n",
              "    </tr>\n",
              "    <tr>\n",
              "      <th>4</th>\n",
              "      <td>1045.000000</td>\n",
              "      <td>1058.369995</td>\n",
              "      <td>1044.087036</td>\n",
              "      <td>1052.099976</td>\n",
              "      <td>1265100</td>\n",
              "    </tr>\n",
              "  </tbody>\n",
              "</table>\n",
              "</div>"
            ],
            "text/plain": [
              "          Open         High          Low        Close   Volume\n",
              "0  1081.540039  1081.780029  1048.260010  1048.579956  2369200\n",
              "1  1055.410034  1058.619995  1000.659973  1001.520020  2859100\n",
              "2  1017.250000  1043.969971   992.559998  1037.780029  3505900\n",
              "3  1048.000000  1061.500000  1040.927979  1051.939941  2057700\n",
              "4  1045.000000  1058.369995  1044.087036  1052.099976  1265100"
            ]
          },
          "metadata": {},
          "execution_count": 24
        }
      ]
    },
    {
      "cell_type": "markdown",
      "metadata": {
        "id": "jsI9RpSqqOJB"
      },
      "source": [
        "### 5.2 Data processing"
      ]
    },
    {
      "cell_type": "code",
      "metadata": {
        "id": "P4XKsf3JqOJB"
      },
      "source": [
        "inputs=scaler.transform(df)"
      ],
      "execution_count": null,
      "outputs": []
    },
    {
      "cell_type": "code",
      "metadata": {
        "id": "4WU92GHSqOJC"
      },
      "source": [
        "#create the test data structure\n",
        "\n",
        "X_test = []\n",
        "y_test = []\n",
        "for i in range(60, inputs.shape[0]):\n",
        "    X_test.append(inputs[i-60: i])\n",
        "    y_test.append(inputs[i, 0])\n",
        ""
      ],
      "execution_count": null,
      "outputs": []
    },
    {
      "cell_type": "code",
      "metadata": {
        "colab": {
          "base_uri": "https://localhost:8080/"
        },
        "id": "o_7O5SlXqOJC",
        "outputId": "53aa7a83-68c1-4a93-8492-d79bcbd139e9"
      },
      "source": [
        "X_test = np.array(X_test)\n",
        "y_test= np.array(y_test)\n",
        "X_test.shape,y_test.shape"
      ],
      "execution_count": null,
      "outputs": [
        {
          "output_type": "execute_result",
          "data": {
            "text/plain": [
              "((0,), (0,))"
            ]
          },
          "metadata": {},
          "execution_count": 27
        }
      ]
    },
    {
      "cell_type": "code",
      "metadata": {
        "id": "ilWa7fgjqOJC"
      },
      "source": [
        "##.11 Make prediction and visulaise the result. (10 Marks)"
      ],
      "execution_count": null,
      "outputs": []
    },
    {
      "cell_type": "markdown",
      "metadata": {
        "id": "5h41-6OxqOJC"
      },
      "source": [
        "### 5.3 Model prediction"
      ]
    },
    {
      "cell_type": "code",
      "metadata": {
        "id": "8gZ0R47tqOJC",
        "colab": {
          "base_uri": "https://localhost:8080/",
          "height": 346
        },
        "outputId": "016bcae5-921b-409e-ba91-2998991c9dd4"
      },
      "source": [
        "predicted_stock_price = regressor.predict(X_test)"
      ],
      "execution_count": null,
      "outputs": [
        {
          "output_type": "error",
          "ename": "ValueError",
          "evalue": "ignored",
          "traceback": [
            "\u001b[0;31m---------------------------------------------------------------------------\u001b[0m",
            "\u001b[0;31mValueError\u001b[0m                                Traceback (most recent call last)",
            "\u001b[0;32m<ipython-input-28-015f2c09338f>\u001b[0m in \u001b[0;36m<module>\u001b[0;34m()\u001b[0m\n\u001b[0;32m----> 1\u001b[0;31m \u001b[0mpredicted_stock_price\u001b[0m \u001b[0;34m=\u001b[0m \u001b[0mregressor\u001b[0m\u001b[0;34m.\u001b[0m\u001b[0mpredict\u001b[0m\u001b[0;34m(\u001b[0m\u001b[0mX_test\u001b[0m\u001b[0;34m)\u001b[0m\u001b[0;34m\u001b[0m\u001b[0;34m\u001b[0m\u001b[0m\n\u001b[0m",
            "\u001b[0;32m/usr/local/lib/python3.7/dist-packages/keras/utils/traceback_utils.py\u001b[0m in \u001b[0;36merror_handler\u001b[0;34m(*args, **kwargs)\u001b[0m\n\u001b[1;32m     65\u001b[0m     \u001b[0;32mexcept\u001b[0m \u001b[0mException\u001b[0m \u001b[0;32mas\u001b[0m \u001b[0me\u001b[0m\u001b[0;34m:\u001b[0m  \u001b[0;31m# pylint: disable=broad-except\u001b[0m\u001b[0;34m\u001b[0m\u001b[0;34m\u001b[0m\u001b[0m\n\u001b[1;32m     66\u001b[0m       \u001b[0mfiltered_tb\u001b[0m \u001b[0;34m=\u001b[0m \u001b[0m_process_traceback_frames\u001b[0m\u001b[0;34m(\u001b[0m\u001b[0me\u001b[0m\u001b[0;34m.\u001b[0m\u001b[0m__traceback__\u001b[0m\u001b[0;34m)\u001b[0m\u001b[0;34m\u001b[0m\u001b[0;34m\u001b[0m\u001b[0m\n\u001b[0;32m---> 67\u001b[0;31m       \u001b[0;32mraise\u001b[0m \u001b[0me\u001b[0m\u001b[0;34m.\u001b[0m\u001b[0mwith_traceback\u001b[0m\u001b[0;34m(\u001b[0m\u001b[0mfiltered_tb\u001b[0m\u001b[0;34m)\u001b[0m \u001b[0;32mfrom\u001b[0m \u001b[0;32mNone\u001b[0m\u001b[0;34m\u001b[0m\u001b[0;34m\u001b[0m\u001b[0m\n\u001b[0m\u001b[1;32m     68\u001b[0m     \u001b[0;32mfinally\u001b[0m\u001b[0;34m:\u001b[0m\u001b[0;34m\u001b[0m\u001b[0;34m\u001b[0m\u001b[0m\n\u001b[1;32m     69\u001b[0m       \u001b[0;32mdel\u001b[0m \u001b[0mfiltered_tb\u001b[0m\u001b[0;34m\u001b[0m\u001b[0;34m\u001b[0m\u001b[0m\n",
            "\u001b[0;32m/usr/local/lib/python3.7/dist-packages/keras/engine/training.py\u001b[0m in \u001b[0;36mpredict\u001b[0;34m(self, x, batch_size, verbose, steps, callbacks, max_queue_size, workers, use_multiprocessing)\u001b[0m\n\u001b[1;32m   1802\u001b[0m             \u001b[0mcallbacks\u001b[0m\u001b[0;34m.\u001b[0m\u001b[0mon_predict_batch_end\u001b[0m\u001b[0;34m(\u001b[0m\u001b[0mend_step\u001b[0m\u001b[0;34m,\u001b[0m \u001b[0;34m{\u001b[0m\u001b[0;34m'outputs'\u001b[0m\u001b[0;34m:\u001b[0m \u001b[0mbatch_outputs\u001b[0m\u001b[0;34m}\u001b[0m\u001b[0;34m)\u001b[0m\u001b[0;34m\u001b[0m\u001b[0;34m\u001b[0m\u001b[0m\n\u001b[1;32m   1803\u001b[0m       \u001b[0;32mif\u001b[0m \u001b[0mbatch_outputs\u001b[0m \u001b[0;32mis\u001b[0m \u001b[0;32mNone\u001b[0m\u001b[0;34m:\u001b[0m\u001b[0;34m\u001b[0m\u001b[0;34m\u001b[0m\u001b[0m\n\u001b[0;32m-> 1804\u001b[0;31m         raise ValueError('Unexpected result of `predict_function` '\n\u001b[0m\u001b[1;32m   1805\u001b[0m                          \u001b[0;34m'(Empty batch_outputs). Please use '\u001b[0m\u001b[0;34m\u001b[0m\u001b[0;34m\u001b[0m\u001b[0m\n\u001b[1;32m   1806\u001b[0m                          \u001b[0;34m'`Model.compile(..., run_eagerly=True)`, or '\u001b[0m\u001b[0;34m\u001b[0m\u001b[0;34m\u001b[0m\u001b[0m\n",
            "\u001b[0;31mValueError\u001b[0m: Unexpected result of `predict_function` (Empty batch_outputs). Please use `Model.compile(..., run_eagerly=True)`, or `tf.config.run_functions_eagerly(True)` for more information of where went wrong, or file a issue/bug to `tf.keras`."
          ]
        }
      ]
    },
    {
      "cell_type": "code",
      "metadata": {
        "colab": {
          "base_uri": "https://localhost:8080/",
          "height": 166
        },
        "id": "yg5rA9MgqOJC",
        "outputId": "6c857483-81e5-4ad7-df66-1dadab3ff180"
      },
      "source": [
        "predicted_stock_price"
      ],
      "execution_count": null,
      "outputs": [
        {
          "output_type": "error",
          "ename": "NameError",
          "evalue": "ignored",
          "traceback": [
            "\u001b[0;31m---------------------------------------------------------------------------\u001b[0m",
            "\u001b[0;31mNameError\u001b[0m                                 Traceback (most recent call last)",
            "\u001b[0;32m<ipython-input-29-d4a529264797>\u001b[0m in \u001b[0;36m<module>\u001b[0;34m()\u001b[0m\n\u001b[0;32m----> 1\u001b[0;31m \u001b[0mpredicted_stock_price\u001b[0m\u001b[0;34m\u001b[0m\u001b[0;34m\u001b[0m\u001b[0m\n\u001b[0m",
            "\u001b[0;31mNameError\u001b[0m: name 'predicted_stock_price' is not defined"
          ]
        }
      ]
    },
    {
      "cell_type": "code",
      "metadata": {
        "colab": {
          "base_uri": "https://localhost:8080/"
        },
        "id": "dWKEWVQ5qOJD",
        "outputId": "2dd69b17-bcda-4beb-9e87-9aeee37031c9"
      },
      "source": [
        "scaler.scale_"
      ],
      "execution_count": null,
      "outputs": [
        {
          "output_type": "execute_result",
          "data": {
            "text/plain": [
              "array([6.77662810e-04, 6.75025317e-04, 6.78610578e-04, 6.77106900e-04,\n",
              "       1.21162775e-08])"
            ]
          },
          "metadata": {
            "tags": []
          },
          "execution_count": 33
        }
      ]
    },
    {
      "cell_type": "code",
      "metadata": {
        "colab": {
          "base_uri": "https://localhost:8080/"
        },
        "id": "AlyJqK57qOJD",
        "outputId": "0d3585c8-3ebf-41ae-f2f1-206a3aeed7cf"
      },
      "source": [
        "scale=1/6.77662810e-04\n",
        "scale"
      ],
      "execution_count": null,
      "outputs": [
        {
          "output_type": "execute_result",
          "data": {
            "text/plain": [
              "1475.660144312774"
            ]
          },
          "metadata": {
            "tags": []
          },
          "execution_count": 34
        }
      ]
    },
    {
      "cell_type": "code",
      "metadata": {
        "colab": {
          "base_uri": "https://localhost:8080/"
        },
        "id": "mUW8XaCRqOJD",
        "outputId": "358ffdf1-8777-4ad8-9c74-c69b5a5c9805"
      },
      "source": [
        "#we have predicted is the scaled values, so we need to reverse the prediction.\n",
        "\n",
        "predicted_stock_price = predicted_stock_price*scale\n",
        "y_test=y_test*scale\n",
        "predicted_stock_price"
      ],
      "execution_count": null,
      "outputs": [
        {
          "output_type": "execute_result",
          "data": {
            "text/plain": [
              "array([[1154.2089],\n",
              "       [1115.116 ],\n",
              "       [1054.7189],\n",
              "       ...,\n",
              "       [1172.8417],\n",
              "       [1163.1667],\n",
              "       [1144.9116]], dtype=float32)"
            ]
          },
          "metadata": {
            "tags": []
          },
          "execution_count": 35
        }
      ]
    },
    {
      "cell_type": "markdown",
      "metadata": {
        "id": "uylM4_CsqOJD"
      },
      "source": [
        "## 6. Result visualization"
      ]
    },
    {
      "cell_type": "code",
      "metadata": {
        "colab": {
          "base_uri": "https://localhost:8080/",
          "height": 295
        },
        "id": "9haetwgPqOJD",
        "outputId": "481278e9-7506-4706-eaa3-c41031596712"
      },
      "source": [
        "plt.plot(y_test, color = 'red', label = 'Real price')\n",
        "plt.plot(predicted_stock_price, color = 'blue', label = 'Predicted price')\n",
        "plt.title('Google price prediction')\n",
        "plt.xlabel('Time')\n",
        "plt.ylabel('Price')\n",
        "plt.legend()\n",
        "plt.show()"
      ],
      "execution_count": null,
      "outputs": [
        {
          "output_type": "display_data",
          "data": {
            "image/png": "[encoded data removed]",
            "text/plain": [
              "<Figure size 432x288 with 1 Axes>"
            ]
          },
          "metadata": {
            "tags": [],
            "needs_background": "light"
          }
        }
      ]
    },
    {
      "cell_type": "markdown",
      "metadata": {
        "id": "j_Zud4P7qOJE"
      },
      "source": [
        "##. What is LSTM? Explain Architecture Of LSTM in detail."
      ]
    },
    {
      "cell_type": "code",
      "metadata": {
        "id": "8Z40eTThqOJE"
      },
      "source": [],
      "execution_count": null,
      "outputs": []
    },
    {
      "cell_type": "code",
      "metadata": {
        "id": "CG1T4hdSqOJE"
      },
      "source": [],
      "execution_count": null,
      "outputs": []
    }
  ]
}